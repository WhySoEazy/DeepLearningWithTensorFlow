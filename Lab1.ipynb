{
 "cells": [
  {
   "cell_type": "code",
   "execution_count": 4,
   "metadata": {},
   "outputs": [],
   "source": [
    "import tensorflow as tf\n",
    "import pandas as pd\n",
    "import matplotlib as mp\n",
    "import cv2\n",
    "import imghdr\n",
    "import os\n",
    "import numpy as np\n",
    "from matplotlib import pyplot as plt"
   ]
  },
  {
   "cell_type": "code",
   "execution_count": 5,
   "metadata": {},
   "outputs": [],
   "source": [
    "data_dir = 'C:/Users/triet/OneDrive/Documents/DAT301m/Lab1/archive/data' \n",
    "image_exts = ['jpeg','jpg', 'bmp', 'png']"
   ]
  },
  {
   "cell_type": "code",
   "execution_count": 6,
   "metadata": {},
   "outputs": [],
   "source": [
    "class MyCallback(tf.keras.callbacks.Callback):\n",
    "    def on_epoch_end(self, epoch, logs={}):\n",
    "        if (logs.get('accuracy') and logs.get('accuracy') >= 0.81) :\n",
    "            print('\\n reached 81 % accuracy so counceling training')\n",
    "            self.model.stop_training = True\n",
    "\n",
    "callback = MyCallback()"
   ]
  },
  {
   "cell_type": "code",
   "execution_count": 7,
   "metadata": {},
   "outputs": [
    {
     "name": "stdout",
     "output_type": "stream",
     "text": [
      "Found 129 images belonging to 2 classes.\n"
     ]
    },
    {
     "name": "stdout",
     "output_type": "stream",
     "text": [
      "Found 31 images belonging to 2 classes.\n"
     ]
    }
   ],
   "source": [
    "from tensorflow.keras.preprocessing.image import ImageDataGenerator\n",
    "\n",
    "train_datagen = ImageDataGenerator(rescale=1.0/255,\n",
    "                                    validation_split=0.2,\n",
    "                                    rotation_range=20,\n",
    "                                    zoom_range=0.2,\n",
    "                                    width_shift_range=0.2,\n",
    "                                    height_shift_range=0.2,\n",
    "                                    horizontal_flip=True)\n",
    "\n",
    "val_datagen = ImageDataGenerator(rescale=1.0/255,\n",
    "                                    validation_split=0.2)\n",
    "\n",
    "folder = 'C:/Users/triet/OneDrive/Documents/DAT301m/Lab1/archive/data'\n",
    "train_generator = train_datagen.flow_from_directory(\n",
    "        folder,\n",
    "        subset='training',\n",
    "        target_size=(512, 512), \n",
    "        batch_size=32,\n",
    "        class_mode='binary')\n",
    "\n",
    "val_generator = val_datagen.flow_from_directory(\n",
    "        folder,\n",
    "        subset='validation',\n",
    "        target_size=(512, 512),\n",
    "        batch_size=32,\n",
    "        class_mode='binary')"
   ]
  },
  {
   "cell_type": "code",
   "execution_count": 8,
   "metadata": {},
   "outputs": [
    {
     "name": "stdout",
     "output_type": "stream",
     "text": [
      "Found 160 files belonging to 2 classes.\n"
     ]
    }
   ],
   "source": [
    "data = tf.keras.utils.image_dataset_from_directory(data_dir)"
   ]
  },
  {
   "cell_type": "code",
   "execution_count": 9,
   "metadata": {},
   "outputs": [],
   "source": [
    "data = data.map(lambda x,y: (x/255,y))"
   ]
  },
  {
   "cell_type": "code",
   "execution_count": 10,
   "metadata": {},
   "outputs": [
    {
     "data": {
      "text/plain": [
       "(array([[[[1.00000000e+00, 1.00000000e+00, 1.00000000e+00],\n",
       "          [1.00000000e+00, 1.00000000e+00, 1.00000000e+00],\n",
       "          [1.00000000e+00, 1.00000000e+00, 1.00000000e+00],\n",
       "          ...,\n",
       "          [1.00000000e+00, 1.00000000e+00, 1.00000000e+00],\n",
       "          [1.00000000e+00, 1.00000000e+00, 1.00000000e+00],\n",
       "          [1.00000000e+00, 1.00000000e+00, 1.00000000e+00]],\n",
       " \n",
       "         [[1.00000000e+00, 1.00000000e+00, 1.00000000e+00],\n",
       "          [1.00000000e+00, 1.00000000e+00, 1.00000000e+00],\n",
       "          [1.00000000e+00, 1.00000000e+00, 1.00000000e+00],\n",
       "          ...,\n",
       "          [1.00000000e+00, 1.00000000e+00, 1.00000000e+00],\n",
       "          [1.00000000e+00, 1.00000000e+00, 1.00000000e+00],\n",
       "          [1.00000000e+00, 1.00000000e+00, 1.00000000e+00]],\n",
       " \n",
       "         [[1.00000000e+00, 1.00000000e+00, 1.00000000e+00],\n",
       "          [1.00000000e+00, 1.00000000e+00, 1.00000000e+00],\n",
       "          [1.00000000e+00, 1.00000000e+00, 1.00000000e+00],\n",
       "          ...,\n",
       "          [1.00000000e+00, 1.00000000e+00, 1.00000000e+00],\n",
       "          [1.00000000e+00, 1.00000000e+00, 1.00000000e+00],\n",
       "          [1.00000000e+00, 1.00000000e+00, 1.00000000e+00]],\n",
       " \n",
       "         ...,\n",
       " \n",
       "         [[6.66666701e-02, 7.05882385e-02, 1.41176477e-01],\n",
       "          [6.66666701e-02, 7.05882385e-02, 1.41176477e-01],\n",
       "          [6.66666701e-02, 7.05882385e-02, 1.41176477e-01],\n",
       "          ...,\n",
       "          [6.66666701e-02, 7.05882385e-02, 1.41176477e-01],\n",
       "          [6.66666701e-02, 7.05882385e-02, 1.41176477e-01],\n",
       "          [6.66666701e-02, 7.05882385e-02, 1.41176477e-01]],\n",
       " \n",
       "         [[6.66666701e-02, 7.05882385e-02, 1.41176477e-01],\n",
       "          [6.66666701e-02, 7.05882385e-02, 1.41176477e-01],\n",
       "          [6.66666701e-02, 7.05882385e-02, 1.41176477e-01],\n",
       "          ...,\n",
       "          [6.66666701e-02, 7.05882385e-02, 1.41176477e-01],\n",
       "          [6.66666701e-02, 7.05882385e-02, 1.41176477e-01],\n",
       "          [6.66666701e-02, 7.05882385e-02, 1.41176477e-01]],\n",
       " \n",
       "         [[6.66666701e-02, 7.05882385e-02, 1.41176477e-01],\n",
       "          [6.66666701e-02, 7.05882385e-02, 1.41176477e-01],\n",
       "          [6.66666701e-02, 7.05882385e-02, 1.41176477e-01],\n",
       "          ...,\n",
       "          [6.66666701e-02, 7.05882385e-02, 1.41176477e-01],\n",
       "          [6.66666701e-02, 7.05882385e-02, 1.41176477e-01],\n",
       "          [6.66666701e-02, 7.05882385e-02, 1.41176477e-01]]],\n",
       " \n",
       " \n",
       "        [[[2.00796574e-01, 1.96875006e-01, 1.89031869e-01],\n",
       "          [2.13082105e-01, 2.09160537e-01, 2.01317400e-01],\n",
       "          [2.00000003e-01, 1.96078435e-01, 1.88235298e-01],\n",
       "          ...,\n",
       "          [2.04718143e-01, 2.04718143e-01, 2.04718143e-01],\n",
       "          [1.96116015e-01, 1.96116015e-01, 1.96116015e-01],\n",
       "          [2.02879906e-01, 2.02879906e-01, 2.02879906e-01]],\n",
       " \n",
       "         [[1.97954252e-01, 1.94032684e-01, 1.86189532e-01],\n",
       "          [1.99203432e-01, 1.95281863e-01, 1.87438726e-01],\n",
       "          [1.98433429e-01, 1.94511861e-01, 1.86668724e-01],\n",
       "          ...,\n",
       "          [2.07843140e-01, 2.07843140e-01, 2.07843140e-01],\n",
       "          [2.07669124e-01, 2.07669124e-01, 2.07669124e-01],\n",
       "          [2.13327199e-01, 2.13327199e-01, 2.13327199e-01]],\n",
       " \n",
       "         [[2.17668846e-01, 2.13747278e-01, 2.05904141e-01],\n",
       "          [2.05208331e-01, 2.01286763e-01, 1.93443626e-01],\n",
       "          [2.18733013e-01, 2.14811444e-01, 2.06968293e-01],\n",
       "          ...,\n",
       "          [2.03921571e-01, 2.03921571e-01, 2.03921571e-01],\n",
       "          [1.99701771e-01, 1.99701771e-01, 1.99701771e-01],\n",
       "          [2.13082105e-01, 2.13082105e-01, 2.13082105e-01]],\n",
       " \n",
       "         ...,\n",
       " \n",
       "         [[2.29923740e-01, 2.14237466e-01, 2.10315898e-01],\n",
       "          [2.19301477e-01, 2.03615203e-01, 1.99693620e-01],\n",
       "          [2.20863968e-01, 2.05177695e-01, 2.01256126e-01],\n",
       "          ...,\n",
       "          [3.07736872e-03, 8.31633899e-03, 1.75996672e-03],\n",
       "          [7.05877552e-03, 1.49019128e-02, 4.69970703e-03],\n",
       "          [0.00000000e+00, 7.84313772e-03, 0.00000000e+00]],\n",
       " \n",
       "         [[2.13327199e-01, 1.97640926e-01, 1.93719357e-01],\n",
       "          [2.04238951e-01, 1.88552678e-01, 1.84631109e-01],\n",
       "          [2.20075533e-01, 2.04389259e-01, 2.00467691e-01],\n",
       "          ...,\n",
       "          [2.59313248e-02, 3.37744616e-02, 2.35722568e-02],\n",
       "          [6.22558582e-04, 7.04656867e-03, 0.00000000e+00],\n",
       "          [1.56250002e-03, 9.40563716e-03, 0.00000000e+00]],\n",
       " \n",
       "         [[2.39667341e-01, 2.23981068e-01, 2.20059499e-01],\n",
       "          [2.28700161e-01, 2.13013887e-01, 2.09092319e-01],\n",
       "          [1.99273556e-01, 1.83587283e-01, 1.79665715e-01],\n",
       "          ...,\n",
       "          [0.00000000e+00, 7.84313772e-03, 0.00000000e+00],\n",
       "          [1.56250002e-03, 9.40563716e-03, 0.00000000e+00],\n",
       "          [3.92156886e-03, 1.17647061e-02, 0.00000000e+00]]],\n",
       " \n",
       " \n",
       "        [[[1.17110908e-01, 1.13189340e-01, 2.77895212e-01],\n",
       "          [9.96476710e-02, 9.57261026e-02, 2.60431975e-01],\n",
       "          [1.01960786e-01, 9.80392173e-02, 2.62745112e-01],\n",
       "          ...,\n",
       "          [1.21568628e-01, 1.21568628e-01, 2.70588249e-01],\n",
       "          [1.21568628e-01, 1.21568628e-01, 2.70588249e-01],\n",
       "          [1.21568628e-01, 1.21568628e-01, 2.70588249e-01]],\n",
       " \n",
       "         [[1.17110908e-01, 1.13189340e-01, 2.77895212e-01],\n",
       "          [9.96476710e-02, 9.57261026e-02, 2.60431975e-01],\n",
       "          [1.01960786e-01, 9.80392173e-02, 2.62745112e-01],\n",
       "          ...,\n",
       "          [1.21568628e-01, 1.21568628e-01, 2.70588249e-01],\n",
       "          [1.21568628e-01, 1.21568628e-01, 2.70588249e-01],\n",
       "          [1.21568628e-01, 1.21568628e-01, 2.70588249e-01]],\n",
       " \n",
       "         [[1.13725491e-01, 1.09803922e-01, 2.74509817e-01],\n",
       "          [1.02466300e-01, 9.85447317e-02, 2.63250619e-01],\n",
       "          [1.05416454e-01, 1.01494886e-01, 2.66200751e-01],\n",
       "          ...,\n",
       "          [1.21568628e-01, 1.21568628e-01, 2.70588249e-01],\n",
       "          [1.21568628e-01, 1.21568628e-01, 2.70588249e-01],\n",
       "          [1.21568628e-01, 1.21568628e-01, 2.70588249e-01]],\n",
       " \n",
       "         ...,\n",
       " \n",
       "         [[9.18658078e-02, 1.31081492e-01, 2.68336385e-01],\n",
       "          [1.06112130e-01, 1.45327821e-01, 2.82582730e-01],\n",
       "          [9.91727933e-02, 1.38388485e-01, 2.75643378e-01],\n",
       "          ...,\n",
       "          [1.48299634e-01, 1.79672182e-01, 3.71829033e-01],\n",
       "          [1.02910541e-01, 1.34283096e-01, 3.26439947e-01],\n",
       "          [1.04748778e-01, 1.12591915e-01, 3.12591910e-01]],\n",
       " \n",
       "         [[7.59344399e-02, 1.13373160e-01, 2.52283543e-01],\n",
       "          [9.01807621e-02, 1.27619490e-01, 2.66127288e-01],\n",
       "          [8.32414180e-02, 1.20680146e-01, 2.59104639e-01],\n",
       "          ...,\n",
       "          [1.80039823e-01, 2.11412370e-01, 4.03569251e-01],\n",
       "          [1.33517161e-01, 1.64889708e-01, 3.57046574e-01],\n",
       "          [1.20680146e-01, 1.29411772e-01, 3.29411775e-01]],\n",
       " \n",
       "         [[9.01960805e-02, 1.01960786e-01, 2.62745112e-01],\n",
       "          [9.01960805e-02, 1.01960786e-01, 2.62745112e-01],\n",
       "          [9.01960805e-02, 1.01960786e-01, 2.62745112e-01],\n",
       "          ...,\n",
       "          [1.71308205e-01, 2.02680767e-01, 3.94837618e-01],\n",
       "          [1.50628060e-01, 1.82000607e-01, 3.74157488e-01],\n",
       "          [1.26026347e-01, 1.57398894e-01, 3.49555761e-01]]],\n",
       " \n",
       " \n",
       "        ...,\n",
       " \n",
       " \n",
       "        [[[9.25497830e-01, 8.43144894e-01, 7.21576273e-01],\n",
       "          [9.22257960e-01, 8.47748160e-01, 7.30101109e-01],\n",
       "          [9.22939658e-01, 8.48429859e-01, 7.30782807e-01],\n",
       "          ...,\n",
       "          [9.83490586e-01, 8.91088605e-01, 7.41211176e-01],\n",
       "          [9.83639717e-01, 8.89522076e-01, 7.40502477e-01],\n",
       "          [9.82958019e-01, 8.88840377e-01, 7.39820778e-01]],\n",
       " \n",
       "         [[9.39299941e-01, 8.56947005e-01, 7.35378385e-01],\n",
       "          [9.35378373e-01, 8.60868573e-01, 7.35378385e-01],\n",
       "          [9.43221509e-01, 8.68711710e-01, 7.51064658e-01],\n",
       "          ...,\n",
       "          [9.94201899e-01, 9.07927394e-01, 7.54986227e-01],\n",
       "          [9.98123467e-01, 9.04005826e-01, 7.54986227e-01],\n",
       "          [9.95785236e-01, 9.01667595e-01, 7.52647996e-01]],\n",
       " \n",
       "         [[9.41689670e-01, 8.59336674e-01, 7.37768054e-01],\n",
       "          [9.37768102e-01, 8.63258243e-01, 7.37768054e-01],\n",
       "          [9.38794434e-01, 8.64284635e-01, 7.46637583e-01],\n",
       "          ...,\n",
       "          [9.99486804e-01, 9.13212299e-01, 7.52427995e-01],\n",
       "          [9.99486804e-01, 9.13212299e-01, 7.52427995e-01],\n",
       "          [9.96078432e-01, 9.09803927e-01, 7.49019623e-01]],\n",
       " \n",
       "         ...,\n",
       " \n",
       "         [[1.72568411e-01, 1.45630598e-01, 8.26863572e-02],\n",
       "          [1.83800548e-01, 1.56349570e-01, 8.67876858e-02],\n",
       "          [1.80905327e-01, 1.58779964e-01, 8.55289251e-02],\n",
       "          ...,\n",
       "          [3.70031506e-01, 1.92044601e-01, 5.76770268e-02],\n",
       "          [3.89832973e-01, 1.94780901e-01, 5.33363484e-02],\n",
       "          [4.08908248e-01, 2.04454124e-01, 4.81045581e-02]],\n",
       " \n",
       "         [[1.94625318e-01, 1.56238034e-01, 8.40664729e-02],\n",
       "          [1.80392161e-01, 1.52941182e-01, 9.01960805e-02],\n",
       "          [1.74425557e-01, 1.50896147e-01, 8.81510451e-02],\n",
       "          ...,\n",
       "          [3.70664835e-01, 1.91130519e-01, 6.17187507e-02],\n",
       "          [3.92946959e-01, 1.96868539e-01, 6.00272380e-02],\n",
       "          [4.10945147e-01, 2.06410840e-01, 4.89616841e-02]],\n",
       " \n",
       "         [[2.23966718e-01, 1.65143177e-01, 8.92700180e-02],\n",
       "          [1.74745083e-01, 1.47294104e-01, 8.45490098e-02],\n",
       "          [1.52745619e-01, 1.41662598e-01, 8.42024237e-02],\n",
       "          ...,\n",
       "          [3.66770297e-01, 1.85386509e-01, 6.66472763e-02],\n",
       "          [3.85301769e-01, 1.93144917e-01, 6.58164844e-02],\n",
       "          [4.11527276e-01, 2.07605705e-01, 5.46645224e-02]]],\n",
       " \n",
       " \n",
       "        [[[7.46867359e-01, 5.92087924e-01, 4.44661468e-01],\n",
       "          [7.54388809e-01, 6.02742016e-01, 4.49800849e-01],\n",
       "          [7.52810955e-01, 6.03308797e-01, 4.59589452e-01],\n",
       "          ...,\n",
       "          [4.45611209e-01, 3.72326910e-01, 3.26616108e-01],\n",
       "          [4.22051162e-01, 3.51462930e-01, 3.04404110e-01],\n",
       "          [4.30537671e-01, 3.59949440e-01, 3.20733756e-01]],\n",
       " \n",
       "         [[7.26914823e-01, 5.73973656e-01, 4.17080283e-01],\n",
       "          [7.47426450e-01, 5.94485283e-01, 4.41544116e-01],\n",
       "          [7.51371026e-01, 6.02351427e-01, 4.52305466e-01],\n",
       "          ...,\n",
       "          [4.34267759e-01, 3.63679528e-01, 3.22947294e-01],\n",
       "          [4.35945153e-01, 3.63350183e-01, 3.30154717e-01],\n",
       "          [4.28186268e-01, 3.54587942e-01, 3.24402571e-01]],\n",
       " \n",
       "         [[7.23897040e-01, 5.70955873e-01, 4.18014705e-01],\n",
       "          [7.37890601e-01, 5.84949434e-01, 4.24655318e-01],\n",
       "          [7.21430779e-01, 5.72411180e-01, 4.27313119e-01],\n",
       "          ...,\n",
       "          [4.45343137e-01, 3.74754906e-01, 3.28017771e-01],\n",
       "          [4.38227624e-01, 3.67639393e-01, 3.20580572e-01],\n",
       "          [4.35853243e-01, 3.65265012e-01, 3.25819552e-01]],\n",
       " \n",
       "         ...,\n",
       " \n",
       "         [[8.13962936e-01, 7.97801793e-01, 7.80392170e-01],\n",
       "          [8.23843420e-01, 8.12078714e-01, 7.92470872e-01],\n",
       "          [8.21492016e-01, 8.09727311e-01, 7.90119469e-01],\n",
       "          ...,\n",
       "          [6.54986203e-01, 6.86358750e-01, 7.68711686e-01],\n",
       "          [6.48674965e-01, 6.91513479e-01, 7.70044446e-01],\n",
       "          [6.77581191e-01, 7.01110601e-01, 7.87385106e-01]],\n",
       " \n",
       "         [[8.04044127e-01, 7.91789234e-01, 7.74264693e-01],\n",
       "          [8.16375613e-01, 8.04610908e-01, 7.85003066e-01],\n",
       "          [8.24387252e-01, 8.12622547e-01, 7.93014705e-01],\n",
       "          ...,\n",
       "          [6.65065885e-01, 6.96438432e-01, 7.78791368e-01],\n",
       "          [6.49226427e-01, 6.80598974e-01, 7.62951910e-01],\n",
       "          [6.35715365e-01, 6.65479481e-01, 7.46568620e-01]],\n",
       " \n",
       "         [[7.98697889e-01, 7.83256769e-01, 7.65487134e-01],\n",
       "          [8.19745719e-01, 8.00137877e-01, 7.84451604e-01],\n",
       "          [8.11994493e-01, 8.00229788e-01, 7.80621946e-01],\n",
       "          ...,\n",
       "          [6.78791344e-01, 7.07973361e-01, 7.91421592e-01],\n",
       "          [6.82873785e-01, 7.12775707e-01, 7.95863986e-01],\n",
       "          [6.47801757e-01, 6.79174304e-01, 7.53684103e-01]]],\n",
       " \n",
       " \n",
       "        [[[4.49780941e-01, 4.65467215e-01, 4.76720303e-01],\n",
       "          [4.47503060e-01, 4.71032470e-01, 4.71032470e-01],\n",
       "          [4.56181020e-01, 4.79710430e-01, 4.79710430e-01],\n",
       "          ...,\n",
       "          [8.23529437e-02, 1.17647059e-01, 1.45098045e-01],\n",
       "          [7.45098069e-02, 1.09803922e-01, 1.37254909e-01],\n",
       "          [7.59650767e-02, 1.19102329e-01, 1.26945466e-01]],\n",
       " \n",
       "         [[4.45603549e-01, 4.54901963e-01, 4.97594982e-01],\n",
       "          [4.58379298e-01, 4.81908709e-01, 4.81908709e-01],\n",
       "          [4.75444227e-01, 4.98973638e-01, 4.98973638e-01],\n",
       "          ...,\n",
       "          [8.23529437e-02, 1.17647059e-01, 1.45098045e-01],\n",
       "          [8.23529437e-02, 1.17647059e-01, 1.45098045e-01],\n",
       "          [7.15992674e-02, 1.14736520e-01, 1.22579657e-01]],\n",
       " \n",
       "         [[4.54901963e-01, 4.69577193e-01, 4.95572925e-01],\n",
       "          [4.58379298e-01, 4.77987140e-01, 5.01516521e-01],\n",
       "          [4.62745100e-01, 4.82352942e-01, 5.05882382e-01],\n",
       "          ...,\n",
       "          [8.23529437e-02, 1.17647059e-01, 1.45098045e-01],\n",
       "          [7.40655661e-02, 1.09359682e-01, 1.36810660e-01],\n",
       "          [6.66666701e-02, 1.09803922e-01, 1.33333340e-01]],\n",
       " \n",
       "         ...,\n",
       " \n",
       "         [[0.00000000e+00, 0.00000000e+00, 0.00000000e+00],\n",
       "          [0.00000000e+00, 0.00000000e+00, 0.00000000e+00],\n",
       "          [0.00000000e+00, 0.00000000e+00, 0.00000000e+00],\n",
       "          ...,\n",
       "          [0.00000000e+00, 0.00000000e+00, 0.00000000e+00],\n",
       "          [0.00000000e+00, 0.00000000e+00, 0.00000000e+00],\n",
       "          [0.00000000e+00, 0.00000000e+00, 0.00000000e+00]],\n",
       " \n",
       "         [[0.00000000e+00, 0.00000000e+00, 0.00000000e+00],\n",
       "          [0.00000000e+00, 0.00000000e+00, 0.00000000e+00],\n",
       "          [0.00000000e+00, 0.00000000e+00, 0.00000000e+00],\n",
       "          ...,\n",
       "          [0.00000000e+00, 0.00000000e+00, 0.00000000e+00],\n",
       "          [0.00000000e+00, 0.00000000e+00, 0.00000000e+00],\n",
       "          [0.00000000e+00, 0.00000000e+00, 0.00000000e+00]],\n",
       " \n",
       "         [[0.00000000e+00, 0.00000000e+00, 0.00000000e+00],\n",
       "          [0.00000000e+00, 0.00000000e+00, 0.00000000e+00],\n",
       "          [0.00000000e+00, 0.00000000e+00, 0.00000000e+00],\n",
       "          ...,\n",
       "          [0.00000000e+00, 0.00000000e+00, 0.00000000e+00],\n",
       "          [0.00000000e+00, 0.00000000e+00, 0.00000000e+00],\n",
       "          [0.00000000e+00, 0.00000000e+00, 0.00000000e+00]]]],\n",
       "       dtype=float32),\n",
       " array([1, 1, 0, 1, 1, 1, 1, 0, 1, 1, 0, 1, 0, 0, 1, 1, 1, 1, 0, 0, 0, 1,\n",
       "        0, 1, 0, 1, 1, 0, 0, 0, 1, 1]))"
      ]
     },
     "execution_count": 10,
     "metadata": {},
     "output_type": "execute_result"
    }
   ],
   "source": [
    "data.as_numpy_iterator().next()"
   ]
  },
  {
   "cell_type": "code",
   "execution_count": 11,
   "metadata": {},
   "outputs": [],
   "source": [
    "train_size = int(len(data)*.7)\n",
    "val_size = int(len(data)*.2)\n",
    "test_size = int(len(data)*.1)\n",
    "train = data.take(train_size)\n",
    "val = data.skip(train_size).take(val_size)\n",
    "test = data.skip(train_size+val_size).take(test_size)"
   ]
  },
  {
   "cell_type": "code",
   "execution_count": 12,
   "metadata": {},
   "outputs": [],
   "source": [
    "from tensorflow.keras.models import Sequential\n",
    "from tensorflow.keras.layers import Conv2D,MaxPooling2D , Dense , Flatten , Dropout"
   ]
  },
  {
   "cell_type": "code",
   "execution_count": 13,
   "metadata": {},
   "outputs": [
    {
     "name": "stderr",
     "output_type": "stream",
     "text": [
      "c:\\Users\\triet\\OneDrive\\Documents\\DAT301m\\Lab1\\myenv\\Lib\\site-packages\\keras\\src\\layers\\convolutional\\base_conv.py:107: UserWarning: Do not pass an `input_shape`/`input_dim` argument to a layer. When using Sequential models, prefer using an `Input(shape)` object as the first layer in the model instead.\n",
      "  super().__init__(activity_regularizer=activity_regularizer, **kwargs)\n"
     ]
    }
   ],
   "source": [
    "model = Sequential()\n",
    "model.add(Conv2D(16, (3,3), 1, activation='relu', input_shape=(256,256,3)))\n",
    "model.add(MaxPooling2D())\n",
    "model.add(Conv2D(32, (3,3), 1, activation='relu'))\n",
    "model.add(MaxPooling2D())\n",
    "model.add(Conv2D(16, (3,3), 1, activation='relu'))\n",
    "model.add(MaxPooling2D())\n",
    "model.add(Flatten())\n",
    "model.add(Dense(256, activation='relu'))\n",
    "model.add(Dense(1, activation='sigmoid'))"
   ]
  },
  {
   "cell_type": "code",
   "execution_count": 14,
   "metadata": {},
   "outputs": [
    {
     "data": {
      "text/html": [
       "<pre style=\"white-space:pre;overflow-x:auto;line-height:normal;font-family:Menlo,'DejaVu Sans Mono',consolas,'Courier New',monospace\"><span style=\"font-weight: bold\">Model: \"sequential\"</span>\n",
       "</pre>\n"
      ],
      "text/plain": [
       "\u001b[1mModel: \"sequential\"\u001b[0m\n"
      ]
     },
     "metadata": {},
     "output_type": "display_data"
    },
    {
     "data": {
      "text/html": [
       "<pre style=\"white-space:pre;overflow-x:auto;line-height:normal;font-family:Menlo,'DejaVu Sans Mono',consolas,'Courier New',monospace\">┏━━━━━━━━━━━━━━━━━━━━━━━━━━━━━━━━━┳━━━━━━━━━━━━━━━━━━━━━━━━┳━━━━━━━━━━━━━━━┓\n",
       "┃<span style=\"font-weight: bold\"> Layer (type)                    </span>┃<span style=\"font-weight: bold\"> Output Shape           </span>┃<span style=\"font-weight: bold\">       Param # </span>┃\n",
       "┡━━━━━━━━━━━━━━━━━━━━━━━━━━━━━━━━━╇━━━━━━━━━━━━━━━━━━━━━━━━╇━━━━━━━━━━━━━━━┩\n",
       "│ conv2d (<span style=\"color: #0087ff; text-decoration-color: #0087ff\">Conv2D</span>)                 │ (<span style=\"color: #00d7ff; text-decoration-color: #00d7ff\">None</span>, <span style=\"color: #00af00; text-decoration-color: #00af00\">254</span>, <span style=\"color: #00af00; text-decoration-color: #00af00\">254</span>, <span style=\"color: #00af00; text-decoration-color: #00af00\">16</span>)   │           <span style=\"color: #00af00; text-decoration-color: #00af00\">448</span> │\n",
       "├─────────────────────────────────┼────────────────────────┼───────────────┤\n",
       "│ max_pooling2d (<span style=\"color: #0087ff; text-decoration-color: #0087ff\">MaxPooling2D</span>)    │ (<span style=\"color: #00d7ff; text-decoration-color: #00d7ff\">None</span>, <span style=\"color: #00af00; text-decoration-color: #00af00\">127</span>, <span style=\"color: #00af00; text-decoration-color: #00af00\">127</span>, <span style=\"color: #00af00; text-decoration-color: #00af00\">16</span>)   │             <span style=\"color: #00af00; text-decoration-color: #00af00\">0</span> │\n",
       "├─────────────────────────────────┼────────────────────────┼───────────────┤\n",
       "│ conv2d_1 (<span style=\"color: #0087ff; text-decoration-color: #0087ff\">Conv2D</span>)               │ (<span style=\"color: #00d7ff; text-decoration-color: #00d7ff\">None</span>, <span style=\"color: #00af00; text-decoration-color: #00af00\">125</span>, <span style=\"color: #00af00; text-decoration-color: #00af00\">125</span>, <span style=\"color: #00af00; text-decoration-color: #00af00\">32</span>)   │         <span style=\"color: #00af00; text-decoration-color: #00af00\">4,640</span> │\n",
       "├─────────────────────────────────┼────────────────────────┼───────────────┤\n",
       "│ max_pooling2d_1 (<span style=\"color: #0087ff; text-decoration-color: #0087ff\">MaxPooling2D</span>)  │ (<span style=\"color: #00d7ff; text-decoration-color: #00d7ff\">None</span>, <span style=\"color: #00af00; text-decoration-color: #00af00\">62</span>, <span style=\"color: #00af00; text-decoration-color: #00af00\">62</span>, <span style=\"color: #00af00; text-decoration-color: #00af00\">32</span>)     │             <span style=\"color: #00af00; text-decoration-color: #00af00\">0</span> │\n",
       "├─────────────────────────────────┼────────────────────────┼───────────────┤\n",
       "│ conv2d_2 (<span style=\"color: #0087ff; text-decoration-color: #0087ff\">Conv2D</span>)               │ (<span style=\"color: #00d7ff; text-decoration-color: #00d7ff\">None</span>, <span style=\"color: #00af00; text-decoration-color: #00af00\">60</span>, <span style=\"color: #00af00; text-decoration-color: #00af00\">60</span>, <span style=\"color: #00af00; text-decoration-color: #00af00\">16</span>)     │         <span style=\"color: #00af00; text-decoration-color: #00af00\">4,624</span> │\n",
       "├─────────────────────────────────┼────────────────────────┼───────────────┤\n",
       "│ max_pooling2d_2 (<span style=\"color: #0087ff; text-decoration-color: #0087ff\">MaxPooling2D</span>)  │ (<span style=\"color: #00d7ff; text-decoration-color: #00d7ff\">None</span>, <span style=\"color: #00af00; text-decoration-color: #00af00\">30</span>, <span style=\"color: #00af00; text-decoration-color: #00af00\">30</span>, <span style=\"color: #00af00; text-decoration-color: #00af00\">16</span>)     │             <span style=\"color: #00af00; text-decoration-color: #00af00\">0</span> │\n",
       "├─────────────────────────────────┼────────────────────────┼───────────────┤\n",
       "│ flatten (<span style=\"color: #0087ff; text-decoration-color: #0087ff\">Flatten</span>)               │ (<span style=\"color: #00d7ff; text-decoration-color: #00d7ff\">None</span>, <span style=\"color: #00af00; text-decoration-color: #00af00\">14400</span>)          │             <span style=\"color: #00af00; text-decoration-color: #00af00\">0</span> │\n",
       "├─────────────────────────────────┼────────────────────────┼───────────────┤\n",
       "│ dense (<span style=\"color: #0087ff; text-decoration-color: #0087ff\">Dense</span>)                   │ (<span style=\"color: #00d7ff; text-decoration-color: #00d7ff\">None</span>, <span style=\"color: #00af00; text-decoration-color: #00af00\">256</span>)            │     <span style=\"color: #00af00; text-decoration-color: #00af00\">3,686,656</span> │\n",
       "├─────────────────────────────────┼────────────────────────┼───────────────┤\n",
       "│ dense_1 (<span style=\"color: #0087ff; text-decoration-color: #0087ff\">Dense</span>)                 │ (<span style=\"color: #00d7ff; text-decoration-color: #00d7ff\">None</span>, <span style=\"color: #00af00; text-decoration-color: #00af00\">1</span>)              │           <span style=\"color: #00af00; text-decoration-color: #00af00\">257</span> │\n",
       "└─────────────────────────────────┴────────────────────────┴───────────────┘\n",
       "</pre>\n"
      ],
      "text/plain": [
       "┏━━━━━━━━━━━━━━━━━━━━━━━━━━━━━━━━━┳━━━━━━━━━━━━━━━━━━━━━━━━┳━━━━━━━━━━━━━━━┓\n",
       "┃\u001b[1m \u001b[0m\u001b[1mLayer (type)                   \u001b[0m\u001b[1m \u001b[0m┃\u001b[1m \u001b[0m\u001b[1mOutput Shape          \u001b[0m\u001b[1m \u001b[0m┃\u001b[1m \u001b[0m\u001b[1m      Param #\u001b[0m\u001b[1m \u001b[0m┃\n",
       "┡━━━━━━━━━━━━━━━━━━━━━━━━━━━━━━━━━╇━━━━━━━━━━━━━━━━━━━━━━━━╇━━━━━━━━━━━━━━━┩\n",
       "│ conv2d (\u001b[38;5;33mConv2D\u001b[0m)                 │ (\u001b[38;5;45mNone\u001b[0m, \u001b[38;5;34m254\u001b[0m, \u001b[38;5;34m254\u001b[0m, \u001b[38;5;34m16\u001b[0m)   │           \u001b[38;5;34m448\u001b[0m │\n",
       "├─────────────────────────────────┼────────────────────────┼───────────────┤\n",
       "│ max_pooling2d (\u001b[38;5;33mMaxPooling2D\u001b[0m)    │ (\u001b[38;5;45mNone\u001b[0m, \u001b[38;5;34m127\u001b[0m, \u001b[38;5;34m127\u001b[0m, \u001b[38;5;34m16\u001b[0m)   │             \u001b[38;5;34m0\u001b[0m │\n",
       "├─────────────────────────────────┼────────────────────────┼───────────────┤\n",
       "│ conv2d_1 (\u001b[38;5;33mConv2D\u001b[0m)               │ (\u001b[38;5;45mNone\u001b[0m, \u001b[38;5;34m125\u001b[0m, \u001b[38;5;34m125\u001b[0m, \u001b[38;5;34m32\u001b[0m)   │         \u001b[38;5;34m4,640\u001b[0m │\n",
       "├─────────────────────────────────┼────────────────────────┼───────────────┤\n",
       "│ max_pooling2d_1 (\u001b[38;5;33mMaxPooling2D\u001b[0m)  │ (\u001b[38;5;45mNone\u001b[0m, \u001b[38;5;34m62\u001b[0m, \u001b[38;5;34m62\u001b[0m, \u001b[38;5;34m32\u001b[0m)     │             \u001b[38;5;34m0\u001b[0m │\n",
       "├─────────────────────────────────┼────────────────────────┼───────────────┤\n",
       "│ conv2d_2 (\u001b[38;5;33mConv2D\u001b[0m)               │ (\u001b[38;5;45mNone\u001b[0m, \u001b[38;5;34m60\u001b[0m, \u001b[38;5;34m60\u001b[0m, \u001b[38;5;34m16\u001b[0m)     │         \u001b[38;5;34m4,624\u001b[0m │\n",
       "├─────────────────────────────────┼────────────────────────┼───────────────┤\n",
       "│ max_pooling2d_2 (\u001b[38;5;33mMaxPooling2D\u001b[0m)  │ (\u001b[38;5;45mNone\u001b[0m, \u001b[38;5;34m30\u001b[0m, \u001b[38;5;34m30\u001b[0m, \u001b[38;5;34m16\u001b[0m)     │             \u001b[38;5;34m0\u001b[0m │\n",
       "├─────────────────────────────────┼────────────────────────┼───────────────┤\n",
       "│ flatten (\u001b[38;5;33mFlatten\u001b[0m)               │ (\u001b[38;5;45mNone\u001b[0m, \u001b[38;5;34m14400\u001b[0m)          │             \u001b[38;5;34m0\u001b[0m │\n",
       "├─────────────────────────────────┼────────────────────────┼───────────────┤\n",
       "│ dense (\u001b[38;5;33mDense\u001b[0m)                   │ (\u001b[38;5;45mNone\u001b[0m, \u001b[38;5;34m256\u001b[0m)            │     \u001b[38;5;34m3,686,656\u001b[0m │\n",
       "├─────────────────────────────────┼────────────────────────┼───────────────┤\n",
       "│ dense_1 (\u001b[38;5;33mDense\u001b[0m)                 │ (\u001b[38;5;45mNone\u001b[0m, \u001b[38;5;34m1\u001b[0m)              │           \u001b[38;5;34m257\u001b[0m │\n",
       "└─────────────────────────────────┴────────────────────────┴───────────────┘\n"
      ]
     },
     "metadata": {},
     "output_type": "display_data"
    },
    {
     "data": {
      "text/html": [
       "<pre style=\"white-space:pre;overflow-x:auto;line-height:normal;font-family:Menlo,'DejaVu Sans Mono',consolas,'Courier New',monospace\"><span style=\"font-weight: bold\"> Total params: </span><span style=\"color: #00af00; text-decoration-color: #00af00\">3,696,625</span> (14.10 MB)\n",
       "</pre>\n"
      ],
      "text/plain": [
       "\u001b[1m Total params: \u001b[0m\u001b[38;5;34m3,696,625\u001b[0m (14.10 MB)\n"
      ]
     },
     "metadata": {},
     "output_type": "display_data"
    },
    {
     "data": {
      "text/html": [
       "<pre style=\"white-space:pre;overflow-x:auto;line-height:normal;font-family:Menlo,'DejaVu Sans Mono',consolas,'Courier New',monospace\"><span style=\"font-weight: bold\"> Trainable params: </span><span style=\"color: #00af00; text-decoration-color: #00af00\">3,696,625</span> (14.10 MB)\n",
       "</pre>\n"
      ],
      "text/plain": [
       "\u001b[1m Trainable params: \u001b[0m\u001b[38;5;34m3,696,625\u001b[0m (14.10 MB)\n"
      ]
     },
     "metadata": {},
     "output_type": "display_data"
    },
    {
     "data": {
      "text/html": [
       "<pre style=\"white-space:pre;overflow-x:auto;line-height:normal;font-family:Menlo,'DejaVu Sans Mono',consolas,'Courier New',monospace\"><span style=\"font-weight: bold\"> Non-trainable params: </span><span style=\"color: #00af00; text-decoration-color: #00af00\">0</span> (0.00 B)\n",
       "</pre>\n"
      ],
      "text/plain": [
       "\u001b[1m Non-trainable params: \u001b[0m\u001b[38;5;34m0\u001b[0m (0.00 B)\n"
      ]
     },
     "metadata": {},
     "output_type": "display_data"
    }
   ],
   "source": [
    "model.summary()"
   ]
  },
  {
   "cell_type": "code",
   "execution_count": 15,
   "metadata": {},
   "outputs": [],
   "source": [
    "model.compile('adam',\n",
    "              loss = tf.losses.BinaryCrossentropy(),\n",
    "              metrics=['accuracy'])"
   ]
  },
  {
   "cell_type": "code",
   "execution_count": 16,
   "metadata": {},
   "outputs": [
    {
     "name": "stdout",
     "output_type": "stream",
     "text": [
      "Epoch 1/30\n",
      "\u001b[1m3/3\u001b[0m \u001b[32m━━━━━━━━━━━━━━━━━━━━\u001b[0m\u001b[37m\u001b[0m \u001b[1m6s\u001b[0m 1s/step - accuracy: 0.4792 - loss: 1.4197 - val_accuracy: 0.3750 - val_loss: 2.0112\n",
      "Epoch 2/30\n",
      "\u001b[1m3/3\u001b[0m \u001b[32m━━━━━━━━━━━━━━━━━━━━\u001b[0m\u001b[37m\u001b[0m \u001b[1m3s\u001b[0m 978ms/step - accuracy: 0.5091 - loss: 1.3679 - val_accuracy: 0.4062 - val_loss: 0.8410\n",
      "Epoch 3/30\n",
      "\u001b[1m3/3\u001b[0m \u001b[32m━━━━━━━━━━━━━━━━━━━━\u001b[0m\u001b[37m\u001b[0m \u001b[1m3s\u001b[0m 854ms/step - accuracy: 0.4896 - loss: 0.7589 - val_accuracy: 0.6562 - val_loss: 0.6574\n",
      "Epoch 4/30\n",
      "\u001b[1m3/3\u001b[0m \u001b[32m━━━━━━━━━━━━━━━━━━━━\u001b[0m\u001b[37m\u001b[0m \u001b[1m3s\u001b[0m 856ms/step - accuracy: 0.5755 - loss: 0.6705 - val_accuracy: 0.5625 - val_loss: 0.6736\n",
      "Epoch 5/30\n",
      "\u001b[1m3/3\u001b[0m \u001b[32m━━━━━━━━━━━━━━━━━━━━\u001b[0m\u001b[37m\u001b[0m \u001b[1m2s\u001b[0m 742ms/step - accuracy: 0.5807 - loss: 0.6513 - val_accuracy: 0.5938 - val_loss: 0.6509\n",
      "Epoch 6/30\n",
      "\u001b[1m3/3\u001b[0m \u001b[32m━━━━━━━━━━━━━━━━━━━━\u001b[0m\u001b[37m\u001b[0m \u001b[1m2s\u001b[0m 734ms/step - accuracy: 0.6536 - loss: 0.6072 - val_accuracy: 0.7500 - val_loss: 0.5897\n",
      "Epoch 7/30\n",
      "\u001b[1m3/3\u001b[0m \u001b[32m━━━━━━━━━━━━━━━━━━━━\u001b[0m\u001b[37m\u001b[0m \u001b[1m2s\u001b[0m 777ms/step - accuracy: 0.6406 - loss: 0.6351 - val_accuracy: 0.6250 - val_loss: 0.6509\n",
      "Epoch 8/30\n",
      "\u001b[1m3/3\u001b[0m \u001b[32m━━━━━━━━━━━━━━━━━━━━\u001b[0m\u001b[37m\u001b[0m \u001b[1m2s\u001b[0m 845ms/step - accuracy: 0.6458 - loss: 0.5520 - val_accuracy: 0.6562 - val_loss: 0.5874\n",
      "Epoch 9/30\n",
      "\u001b[1m3/3\u001b[0m \u001b[32m━━━━━━━━━━━━━━━━━━━━\u001b[0m\u001b[37m\u001b[0m \u001b[1m2s\u001b[0m 807ms/step - accuracy: 0.7161 - loss: 0.5733 - val_accuracy: 0.9062 - val_loss: 0.5203\n",
      "Epoch 10/30\n",
      "\u001b[1m3/3\u001b[0m \u001b[32m━━━━━━━━━━━━━━━━━━━━\u001b[0m\u001b[37m\u001b[0m \u001b[1m2s\u001b[0m 774ms/step - accuracy: 0.7826 - loss: 0.5370 - val_accuracy: 0.7188 - val_loss: 0.4923\n",
      "Epoch 11/30\n",
      "\u001b[1m3/3\u001b[0m \u001b[32m━━━━━━━━━━━━━━━━━━━━\u001b[0m\u001b[37m\u001b[0m \u001b[1m2s\u001b[0m 778ms/step - accuracy: 0.7422 - loss: 0.4709 - val_accuracy: 0.9062 - val_loss: 0.4141\n",
      "Epoch 12/30\n",
      "\u001b[1m3/3\u001b[0m \u001b[32m━━━━━━━━━━━━━━━━━━━━\u001b[0m\u001b[37m\u001b[0m \u001b[1m0s\u001b[0m 334ms/step - accuracy: 0.8420 - loss: 0.4478\n",
      " reached 81 % accuracy so counceling training\n",
      "\u001b[1m3/3\u001b[0m \u001b[32m━━━━━━━━━━━━━━━━━━━━\u001b[0m\u001b[37m\u001b[0m \u001b[1m2s\u001b[0m 734ms/step - accuracy: 0.8451 - loss: 0.4437 - val_accuracy: 0.6562 - val_loss: 0.5390\n"
     ]
    }
   ],
   "source": [
    "hist = model.fit(train,epochs=30,validation_data=val,callbacks=[callback])"
   ]
  },
  {
   "cell_type": "code",
   "execution_count": 17,
   "metadata": {},
   "outputs": [
    {
     "data": {
      "image/png": "[encoded data removed]",
      "text/plain": [
       "<Figure size 640x480 with 1 Axes>"
      ]
     },
     "metadata": {},
     "output_type": "display_data"
    }
   ],
   "source": [
    "fig = plt.figure()\n",
    "plt.plot(hist.history['loss'], color = 'teal', label='loss')\n",
    "plt.plot(hist.history['val_loss'],color='orange',label='val_loss')\n",
    "fig.suptitle('Loss', fontsize=20)\n",
    "plt.legend(loc=\"upper left\")\n",
    "plt.show()"
   ]
  },
  {
   "cell_type": "code",
   "execution_count": 18,
   "metadata": {},
   "outputs": [
    {
     "data": {
      "image/png": "[encoded data removed]",
      "text/plain": [
       "<Figure size 640x480 with 1 Axes>"
      ]
     },
     "metadata": {},
     "output_type": "display_data"
    }
   ],
   "source": [
    "fig = plt.figure()\n",
    "plt.plot(hist.history['accuracy'] , color ='teal' , label ='accuracy')\n",
    "plt.plot(hist.history['val_accuracy'], color ='orange' , label = 'val_accuracy')\n",
    "fig.suptitle('Accuracy' , fontsize =20)\n",
    "plt.legend(loc=\"upper left\")\n",
    "plt.show()"
   ]
  }
 ],
 "metadata": {
  "kernelspec": {
   "display_name": "myenv",
   "language": "python",
   "name": "python3"
  },
  "language_info": {
   "codemirror_mode": {
    "name": "ipython",
    "version": 3
   },
   "file_extension": ".py",
   "mimetype": "text/x-python",
   "name": "python",
   "nbconvert_exporter": "python",
   "pygments_lexer": "ipython3",
   "version": "3.11.9"
  }
 },
 "nbformat": 4,
 "nbformat_minor": 2
}
